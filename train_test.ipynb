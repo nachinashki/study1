{
  "nbformat": 4,
  "nbformat_minor": 0,
  "metadata": {
    "colab": {
      "provenance": []
    },
    "kernelspec": {
      "name": "python3",
      "display_name": "Python 3"
    },
    "language_info": {
      "name": "python"
    }
  },
  "cells": [
    {
      "cell_type": "markdown",
      "source": [
        "Estimation of Obesity Levels Based On Eating Habits and Physical Condition"
      ],
      "metadata": {
        "id": "6dEswGjVv6yT"
      }
    },
    {
      "cell_type": "code",
      "execution_count": 3,
      "metadata": {
        "execution": {
          "iopub.execute_input": "2024-06-07T15:11:50.417048Z",
          "iopub.status.busy": "2024-06-07T15:11:50.416758Z",
          "iopub.status.idle": "2024-06-07T15:11:51.318664Z",
          "shell.execute_reply": "2024-06-07T15:11:51.318077Z",
          "shell.execute_reply.started": "2024-06-07T15:11:50.417028Z"
        },
        "id": "f1e38dae-b967-4cca-a877-1ba4e39d15bc"
      },
      "outputs": [],
      "source": [
        "import matplotlib.pyplot as plt\n",
        "import numpy as np\n",
        "import pandas as pd"
      ]
    },
    {
      "cell_type": "code",
      "source": [
        "df = pd.read_csv(\"ObesityDataSet_raw_and_data_sinthetic.csv\")"
      ],
      "metadata": {
        "id": "o7BxT2wCw74p"
      },
      "execution_count": 4,
      "outputs": []
    },
    {
      "cell_type": "markdown",
      "source": [
        "исследуем датасет....\n",
        "---"
      ],
      "metadata": {
        "id": "KjTCnqiXxa4_"
      }
    },
    {
      "cell_type": "code",
      "source": [
        "df.columns"
      ],
      "metadata": {
        "colab": {
          "base_uri": "https://localhost:8080/"
        },
        "id": "C-UE9jygxicD",
        "outputId": "9ab2a476-b6d3-4da5-d86d-b46dd8231a91"
      },
      "execution_count": 5,
      "outputs": [
        {
          "output_type": "execute_result",
          "data": {
            "text/plain": [
              "Index(['Gender', 'Age', 'Height', 'Weight', 'family_history_with_overweight',\n",
              "       'FAVC', 'FCVC', 'NCP', 'CAEC', 'SMOKE', 'CH2O', 'SCC', 'FAF', 'TUE',\n",
              "       'CALC', 'MTRANS', 'NObeyesdad'],\n",
              "      dtype='object')"
            ]
          },
          "metadata": {},
          "execution_count": 5
        }
      ]
    },
    {
      "cell_type": "markdown",
      "source": [
        "FAVC\t--\t\tDo you eat high caloric food frequently?\n",
        "FCVC\t--\t\tDo you usually eat vegetables in your meals?\n",
        "NCP\t--\t\tHow many main meals do you have daily?\n",
        "CAEC\t--\t\tDo you eat any food between meals?\n",
        "CH2O\t-- How much water do you drink daily?\n",
        "SCC\t-- Do you monitor the calories you eat daily?\n",
        "FAF\t-- How often do you have physical activity?\n",
        "TUE\t--\tHow much time do you use technological devices such as cell phone, videogames, television, computer and others?\n",
        "CALC\t--\tHow often do you drink alcohol?\n",
        "MTRANS\t--\tWhich transportation do you usually use?\n",
        "NObeyesdad\t--\tObesity level\n",
        "\n",
        "\n"
      ],
      "metadata": {
        "id": "aSKouPOW0JQU"
      }
    },
    {
      "cell_type": "code",
      "source": [
        "df.head().style"
      ],
      "metadata": {
        "colab": {
          "base_uri": "https://localhost:8080/",
          "height": 226
        },
        "id": "YfAty98TyRXM",
        "outputId": "624bad71-571f-42a2-c38a-ed98644b9e54"
      },
      "execution_count": 6,
      "outputs": [
        {
          "output_type": "execute_result",
          "data": {
            "text/plain": [
              "<pandas.io.formats.style.Styler at 0x7b3e0cf3e980>"
            ],
            "text/html": [
              "<style type=\"text/css\">\n",
              "</style>\n",
              "<table id=\"T_b8f4e\" class=\"dataframe\">\n",
              "  <thead>\n",
              "    <tr>\n",
              "      <th class=\"blank level0\" >&nbsp;</th>\n",
              "      <th id=\"T_b8f4e_level0_col0\" class=\"col_heading level0 col0\" >Gender</th>\n",
              "      <th id=\"T_b8f4e_level0_col1\" class=\"col_heading level0 col1\" >Age</th>\n",
              "      <th id=\"T_b8f4e_level0_col2\" class=\"col_heading level0 col2\" >Height</th>\n",
              "      <th id=\"T_b8f4e_level0_col3\" class=\"col_heading level0 col3\" >Weight</th>\n",
              "      <th id=\"T_b8f4e_level0_col4\" class=\"col_heading level0 col4\" >family_history_with_overweight</th>\n",
              "      <th id=\"T_b8f4e_level0_col5\" class=\"col_heading level0 col5\" >FAVC</th>\n",
              "      <th id=\"T_b8f4e_level0_col6\" class=\"col_heading level0 col6\" >FCVC</th>\n",
              "      <th id=\"T_b8f4e_level0_col7\" class=\"col_heading level0 col7\" >NCP</th>\n",
              "      <th id=\"T_b8f4e_level0_col8\" class=\"col_heading level0 col8\" >CAEC</th>\n",
              "      <th id=\"T_b8f4e_level0_col9\" class=\"col_heading level0 col9\" >SMOKE</th>\n",
              "      <th id=\"T_b8f4e_level0_col10\" class=\"col_heading level0 col10\" >CH2O</th>\n",
              "      <th id=\"T_b8f4e_level0_col11\" class=\"col_heading level0 col11\" >SCC</th>\n",
              "      <th id=\"T_b8f4e_level0_col12\" class=\"col_heading level0 col12\" >FAF</th>\n",
              "      <th id=\"T_b8f4e_level0_col13\" class=\"col_heading level0 col13\" >TUE</th>\n",
              "      <th id=\"T_b8f4e_level0_col14\" class=\"col_heading level0 col14\" >CALC</th>\n",
              "      <th id=\"T_b8f4e_level0_col15\" class=\"col_heading level0 col15\" >MTRANS</th>\n",
              "      <th id=\"T_b8f4e_level0_col16\" class=\"col_heading level0 col16\" >NObeyesdad</th>\n",
              "    </tr>\n",
              "  </thead>\n",
              "  <tbody>\n",
              "    <tr>\n",
              "      <th id=\"T_b8f4e_level0_row0\" class=\"row_heading level0 row0\" >0</th>\n",
              "      <td id=\"T_b8f4e_row0_col0\" class=\"data row0 col0\" >Female</td>\n",
              "      <td id=\"T_b8f4e_row0_col1\" class=\"data row0 col1\" >21.000000</td>\n",
              "      <td id=\"T_b8f4e_row0_col2\" class=\"data row0 col2\" >1.620000</td>\n",
              "      <td id=\"T_b8f4e_row0_col3\" class=\"data row0 col3\" >64.000000</td>\n",
              "      <td id=\"T_b8f4e_row0_col4\" class=\"data row0 col4\" >yes</td>\n",
              "      <td id=\"T_b8f4e_row0_col5\" class=\"data row0 col5\" >no</td>\n",
              "      <td id=\"T_b8f4e_row0_col6\" class=\"data row0 col6\" >2.000000</td>\n",
              "      <td id=\"T_b8f4e_row0_col7\" class=\"data row0 col7\" >3.000000</td>\n",
              "      <td id=\"T_b8f4e_row0_col8\" class=\"data row0 col8\" >Sometimes</td>\n",
              "      <td id=\"T_b8f4e_row0_col9\" class=\"data row0 col9\" >no</td>\n",
              "      <td id=\"T_b8f4e_row0_col10\" class=\"data row0 col10\" >2.000000</td>\n",
              "      <td id=\"T_b8f4e_row0_col11\" class=\"data row0 col11\" >no</td>\n",
              "      <td id=\"T_b8f4e_row0_col12\" class=\"data row0 col12\" >0.000000</td>\n",
              "      <td id=\"T_b8f4e_row0_col13\" class=\"data row0 col13\" >1.000000</td>\n",
              "      <td id=\"T_b8f4e_row0_col14\" class=\"data row0 col14\" >no</td>\n",
              "      <td id=\"T_b8f4e_row0_col15\" class=\"data row0 col15\" >Public_Transportation</td>\n",
              "      <td id=\"T_b8f4e_row0_col16\" class=\"data row0 col16\" >Normal_Weight</td>\n",
              "    </tr>\n",
              "    <tr>\n",
              "      <th id=\"T_b8f4e_level0_row1\" class=\"row_heading level0 row1\" >1</th>\n",
              "      <td id=\"T_b8f4e_row1_col0\" class=\"data row1 col0\" >Female</td>\n",
              "      <td id=\"T_b8f4e_row1_col1\" class=\"data row1 col1\" >21.000000</td>\n",
              "      <td id=\"T_b8f4e_row1_col2\" class=\"data row1 col2\" >1.520000</td>\n",
              "      <td id=\"T_b8f4e_row1_col3\" class=\"data row1 col3\" >56.000000</td>\n",
              "      <td id=\"T_b8f4e_row1_col4\" class=\"data row1 col4\" >yes</td>\n",
              "      <td id=\"T_b8f4e_row1_col5\" class=\"data row1 col5\" >no</td>\n",
              "      <td id=\"T_b8f4e_row1_col6\" class=\"data row1 col6\" >3.000000</td>\n",
              "      <td id=\"T_b8f4e_row1_col7\" class=\"data row1 col7\" >3.000000</td>\n",
              "      <td id=\"T_b8f4e_row1_col8\" class=\"data row1 col8\" >Sometimes</td>\n",
              "      <td id=\"T_b8f4e_row1_col9\" class=\"data row1 col9\" >yes</td>\n",
              "      <td id=\"T_b8f4e_row1_col10\" class=\"data row1 col10\" >3.000000</td>\n",
              "      <td id=\"T_b8f4e_row1_col11\" class=\"data row1 col11\" >yes</td>\n",
              "      <td id=\"T_b8f4e_row1_col12\" class=\"data row1 col12\" >3.000000</td>\n",
              "      <td id=\"T_b8f4e_row1_col13\" class=\"data row1 col13\" >0.000000</td>\n",
              "      <td id=\"T_b8f4e_row1_col14\" class=\"data row1 col14\" >Sometimes</td>\n",
              "      <td id=\"T_b8f4e_row1_col15\" class=\"data row1 col15\" >Public_Transportation</td>\n",
              "      <td id=\"T_b8f4e_row1_col16\" class=\"data row1 col16\" >Normal_Weight</td>\n",
              "    </tr>\n",
              "    <tr>\n",
              "      <th id=\"T_b8f4e_level0_row2\" class=\"row_heading level0 row2\" >2</th>\n",
              "      <td id=\"T_b8f4e_row2_col0\" class=\"data row2 col0\" >Male</td>\n",
              "      <td id=\"T_b8f4e_row2_col1\" class=\"data row2 col1\" >23.000000</td>\n",
              "      <td id=\"T_b8f4e_row2_col2\" class=\"data row2 col2\" >1.800000</td>\n",
              "      <td id=\"T_b8f4e_row2_col3\" class=\"data row2 col3\" >77.000000</td>\n",
              "      <td id=\"T_b8f4e_row2_col4\" class=\"data row2 col4\" >yes</td>\n",
              "      <td id=\"T_b8f4e_row2_col5\" class=\"data row2 col5\" >no</td>\n",
              "      <td id=\"T_b8f4e_row2_col6\" class=\"data row2 col6\" >2.000000</td>\n",
              "      <td id=\"T_b8f4e_row2_col7\" class=\"data row2 col7\" >3.000000</td>\n",
              "      <td id=\"T_b8f4e_row2_col8\" class=\"data row2 col8\" >Sometimes</td>\n",
              "      <td id=\"T_b8f4e_row2_col9\" class=\"data row2 col9\" >no</td>\n",
              "      <td id=\"T_b8f4e_row2_col10\" class=\"data row2 col10\" >2.000000</td>\n",
              "      <td id=\"T_b8f4e_row2_col11\" class=\"data row2 col11\" >no</td>\n",
              "      <td id=\"T_b8f4e_row2_col12\" class=\"data row2 col12\" >2.000000</td>\n",
              "      <td id=\"T_b8f4e_row2_col13\" class=\"data row2 col13\" >1.000000</td>\n",
              "      <td id=\"T_b8f4e_row2_col14\" class=\"data row2 col14\" >Frequently</td>\n",
              "      <td id=\"T_b8f4e_row2_col15\" class=\"data row2 col15\" >Public_Transportation</td>\n",
              "      <td id=\"T_b8f4e_row2_col16\" class=\"data row2 col16\" >Normal_Weight</td>\n",
              "    </tr>\n",
              "    <tr>\n",
              "      <th id=\"T_b8f4e_level0_row3\" class=\"row_heading level0 row3\" >3</th>\n",
              "      <td id=\"T_b8f4e_row3_col0\" class=\"data row3 col0\" >Male</td>\n",
              "      <td id=\"T_b8f4e_row3_col1\" class=\"data row3 col1\" >27.000000</td>\n",
              "      <td id=\"T_b8f4e_row3_col2\" class=\"data row3 col2\" >1.800000</td>\n",
              "      <td id=\"T_b8f4e_row3_col3\" class=\"data row3 col3\" >87.000000</td>\n",
              "      <td id=\"T_b8f4e_row3_col4\" class=\"data row3 col4\" >no</td>\n",
              "      <td id=\"T_b8f4e_row3_col5\" class=\"data row3 col5\" >no</td>\n",
              "      <td id=\"T_b8f4e_row3_col6\" class=\"data row3 col6\" >3.000000</td>\n",
              "      <td id=\"T_b8f4e_row3_col7\" class=\"data row3 col7\" >3.000000</td>\n",
              "      <td id=\"T_b8f4e_row3_col8\" class=\"data row3 col8\" >Sometimes</td>\n",
              "      <td id=\"T_b8f4e_row3_col9\" class=\"data row3 col9\" >no</td>\n",
              "      <td id=\"T_b8f4e_row3_col10\" class=\"data row3 col10\" >2.000000</td>\n",
              "      <td id=\"T_b8f4e_row3_col11\" class=\"data row3 col11\" >no</td>\n",
              "      <td id=\"T_b8f4e_row3_col12\" class=\"data row3 col12\" >2.000000</td>\n",
              "      <td id=\"T_b8f4e_row3_col13\" class=\"data row3 col13\" >0.000000</td>\n",
              "      <td id=\"T_b8f4e_row3_col14\" class=\"data row3 col14\" >Frequently</td>\n",
              "      <td id=\"T_b8f4e_row3_col15\" class=\"data row3 col15\" >Walking</td>\n",
              "      <td id=\"T_b8f4e_row3_col16\" class=\"data row3 col16\" >Overweight_Level_I</td>\n",
              "    </tr>\n",
              "    <tr>\n",
              "      <th id=\"T_b8f4e_level0_row4\" class=\"row_heading level0 row4\" >4</th>\n",
              "      <td id=\"T_b8f4e_row4_col0\" class=\"data row4 col0\" >Male</td>\n",
              "      <td id=\"T_b8f4e_row4_col1\" class=\"data row4 col1\" >22.000000</td>\n",
              "      <td id=\"T_b8f4e_row4_col2\" class=\"data row4 col2\" >1.780000</td>\n",
              "      <td id=\"T_b8f4e_row4_col3\" class=\"data row4 col3\" >89.800000</td>\n",
              "      <td id=\"T_b8f4e_row4_col4\" class=\"data row4 col4\" >no</td>\n",
              "      <td id=\"T_b8f4e_row4_col5\" class=\"data row4 col5\" >no</td>\n",
              "      <td id=\"T_b8f4e_row4_col6\" class=\"data row4 col6\" >2.000000</td>\n",
              "      <td id=\"T_b8f4e_row4_col7\" class=\"data row4 col7\" >1.000000</td>\n",
              "      <td id=\"T_b8f4e_row4_col8\" class=\"data row4 col8\" >Sometimes</td>\n",
              "      <td id=\"T_b8f4e_row4_col9\" class=\"data row4 col9\" >no</td>\n",
              "      <td id=\"T_b8f4e_row4_col10\" class=\"data row4 col10\" >2.000000</td>\n",
              "      <td id=\"T_b8f4e_row4_col11\" class=\"data row4 col11\" >no</td>\n",
              "      <td id=\"T_b8f4e_row4_col12\" class=\"data row4 col12\" >0.000000</td>\n",
              "      <td id=\"T_b8f4e_row4_col13\" class=\"data row4 col13\" >0.000000</td>\n",
              "      <td id=\"T_b8f4e_row4_col14\" class=\"data row4 col14\" >Sometimes</td>\n",
              "      <td id=\"T_b8f4e_row4_col15\" class=\"data row4 col15\" >Public_Transportation</td>\n",
              "      <td id=\"T_b8f4e_row4_col16\" class=\"data row4 col16\" >Overweight_Level_II</td>\n",
              "    </tr>\n",
              "  </tbody>\n",
              "</table>\n"
            ]
          },
          "metadata": {},
          "execution_count": 6
        }
      ]
    },
    {
      "cell_type": "code",
      "source": [
        "df.dtypes"
      ],
      "metadata": {
        "colab": {
          "base_uri": "https://localhost:8080/",
          "height": 617
        },
        "id": "KjFDBsnYyhQL",
        "outputId": "29cd78ac-3ab9-4d1f-edee-26e4f9d02afd"
      },
      "execution_count": 7,
      "outputs": [
        {
          "output_type": "execute_result",
          "data": {
            "text/plain": [
              "Gender                             object\n",
              "Age                               float64\n",
              "Height                            float64\n",
              "Weight                            float64\n",
              "family_history_with_overweight     object\n",
              "FAVC                               object\n",
              "FCVC                              float64\n",
              "NCP                               float64\n",
              "CAEC                               object\n",
              "SMOKE                              object\n",
              "CH2O                              float64\n",
              "SCC                                object\n",
              "FAF                               float64\n",
              "TUE                               float64\n",
              "CALC                               object\n",
              "MTRANS                             object\n",
              "NObeyesdad                         object\n",
              "dtype: object"
            ],
            "text/html": [
              "<div>\n",
              "<style scoped>\n",
              "    .dataframe tbody tr th:only-of-type {\n",
              "        vertical-align: middle;\n",
              "    }\n",
              "\n",
              "    .dataframe tbody tr th {\n",
              "        vertical-align: top;\n",
              "    }\n",
              "\n",
              "    .dataframe thead th {\n",
              "        text-align: right;\n",
              "    }\n",
              "</style>\n",
              "<table border=\"1\" class=\"dataframe\">\n",
              "  <thead>\n",
              "    <tr style=\"text-align: right;\">\n",
              "      <th></th>\n",
              "      <th>0</th>\n",
              "    </tr>\n",
              "  </thead>\n",
              "  <tbody>\n",
              "    <tr>\n",
              "      <th>Gender</th>\n",
              "      <td>object</td>\n",
              "    </tr>\n",
              "    <tr>\n",
              "      <th>Age</th>\n",
              "      <td>float64</td>\n",
              "    </tr>\n",
              "    <tr>\n",
              "      <th>Height</th>\n",
              "      <td>float64</td>\n",
              "    </tr>\n",
              "    <tr>\n",
              "      <th>Weight</th>\n",
              "      <td>float64</td>\n",
              "    </tr>\n",
              "    <tr>\n",
              "      <th>family_history_with_overweight</th>\n",
              "      <td>object</td>\n",
              "    </tr>\n",
              "    <tr>\n",
              "      <th>FAVC</th>\n",
              "      <td>object</td>\n",
              "    </tr>\n",
              "    <tr>\n",
              "      <th>FCVC</th>\n",
              "      <td>float64</td>\n",
              "    </tr>\n",
              "    <tr>\n",
              "      <th>NCP</th>\n",
              "      <td>float64</td>\n",
              "    </tr>\n",
              "    <tr>\n",
              "      <th>CAEC</th>\n",
              "      <td>object</td>\n",
              "    </tr>\n",
              "    <tr>\n",
              "      <th>SMOKE</th>\n",
              "      <td>object</td>\n",
              "    </tr>\n",
              "    <tr>\n",
              "      <th>CH2O</th>\n",
              "      <td>float64</td>\n",
              "    </tr>\n",
              "    <tr>\n",
              "      <th>SCC</th>\n",
              "      <td>object</td>\n",
              "    </tr>\n",
              "    <tr>\n",
              "      <th>FAF</th>\n",
              "      <td>float64</td>\n",
              "    </tr>\n",
              "    <tr>\n",
              "      <th>TUE</th>\n",
              "      <td>float64</td>\n",
              "    </tr>\n",
              "    <tr>\n",
              "      <th>CALC</th>\n",
              "      <td>object</td>\n",
              "    </tr>\n",
              "    <tr>\n",
              "      <th>MTRANS</th>\n",
              "      <td>object</td>\n",
              "    </tr>\n",
              "    <tr>\n",
              "      <th>NObeyesdad</th>\n",
              "      <td>object</td>\n",
              "    </tr>\n",
              "  </tbody>\n",
              "</table>\n",
              "</div><br><label><b>dtype:</b> object</label>"
            ]
          },
          "metadata": {},
          "execution_count": 7
        }
      ]
    },
    {
      "cell_type": "code",
      "source": [
        "df.describe().style"
      ],
      "metadata": {
        "colab": {
          "base_uri": "https://localhost:8080/",
          "height": 300
        },
        "id": "ny3LI1B6yxzG",
        "outputId": "f8ee5fdd-d7e5-4256-e5ee-605164c1cfc8"
      },
      "execution_count": 8,
      "outputs": [
        {
          "output_type": "execute_result",
          "data": {
            "text/plain": [
              "<pandas.io.formats.style.Styler at 0x7b3e3de4b2e0>"
            ],
            "text/html": [
              "<style type=\"text/css\">\n",
              "</style>\n",
              "<table id=\"T_ab9e1\" class=\"dataframe\">\n",
              "  <thead>\n",
              "    <tr>\n",
              "      <th class=\"blank level0\" >&nbsp;</th>\n",
              "      <th id=\"T_ab9e1_level0_col0\" class=\"col_heading level0 col0\" >Age</th>\n",
              "      <th id=\"T_ab9e1_level0_col1\" class=\"col_heading level0 col1\" >Height</th>\n",
              "      <th id=\"T_ab9e1_level0_col2\" class=\"col_heading level0 col2\" >Weight</th>\n",
              "      <th id=\"T_ab9e1_level0_col3\" class=\"col_heading level0 col3\" >FCVC</th>\n",
              "      <th id=\"T_ab9e1_level0_col4\" class=\"col_heading level0 col4\" >NCP</th>\n",
              "      <th id=\"T_ab9e1_level0_col5\" class=\"col_heading level0 col5\" >CH2O</th>\n",
              "      <th id=\"T_ab9e1_level0_col6\" class=\"col_heading level0 col6\" >FAF</th>\n",
              "      <th id=\"T_ab9e1_level0_col7\" class=\"col_heading level0 col7\" >TUE</th>\n",
              "    </tr>\n",
              "  </thead>\n",
              "  <tbody>\n",
              "    <tr>\n",
              "      <th id=\"T_ab9e1_level0_row0\" class=\"row_heading level0 row0\" >count</th>\n",
              "      <td id=\"T_ab9e1_row0_col0\" class=\"data row0 col0\" >2111.000000</td>\n",
              "      <td id=\"T_ab9e1_row0_col1\" class=\"data row0 col1\" >2111.000000</td>\n",
              "      <td id=\"T_ab9e1_row0_col2\" class=\"data row0 col2\" >2111.000000</td>\n",
              "      <td id=\"T_ab9e1_row0_col3\" class=\"data row0 col3\" >2111.000000</td>\n",
              "      <td id=\"T_ab9e1_row0_col4\" class=\"data row0 col4\" >2111.000000</td>\n",
              "      <td id=\"T_ab9e1_row0_col5\" class=\"data row0 col5\" >2111.000000</td>\n",
              "      <td id=\"T_ab9e1_row0_col6\" class=\"data row0 col6\" >2111.000000</td>\n",
              "      <td id=\"T_ab9e1_row0_col7\" class=\"data row0 col7\" >2111.000000</td>\n",
              "    </tr>\n",
              "    <tr>\n",
              "      <th id=\"T_ab9e1_level0_row1\" class=\"row_heading level0 row1\" >mean</th>\n",
              "      <td id=\"T_ab9e1_row1_col0\" class=\"data row1 col0\" >24.312600</td>\n",
              "      <td id=\"T_ab9e1_row1_col1\" class=\"data row1 col1\" >1.701677</td>\n",
              "      <td id=\"T_ab9e1_row1_col2\" class=\"data row1 col2\" >86.586058</td>\n",
              "      <td id=\"T_ab9e1_row1_col3\" class=\"data row1 col3\" >2.419043</td>\n",
              "      <td id=\"T_ab9e1_row1_col4\" class=\"data row1 col4\" >2.685628</td>\n",
              "      <td id=\"T_ab9e1_row1_col5\" class=\"data row1 col5\" >2.008011</td>\n",
              "      <td id=\"T_ab9e1_row1_col6\" class=\"data row1 col6\" >1.010298</td>\n",
              "      <td id=\"T_ab9e1_row1_col7\" class=\"data row1 col7\" >0.657866</td>\n",
              "    </tr>\n",
              "    <tr>\n",
              "      <th id=\"T_ab9e1_level0_row2\" class=\"row_heading level0 row2\" >std</th>\n",
              "      <td id=\"T_ab9e1_row2_col0\" class=\"data row2 col0\" >6.345968</td>\n",
              "      <td id=\"T_ab9e1_row2_col1\" class=\"data row2 col1\" >0.093305</td>\n",
              "      <td id=\"T_ab9e1_row2_col2\" class=\"data row2 col2\" >26.191172</td>\n",
              "      <td id=\"T_ab9e1_row2_col3\" class=\"data row2 col3\" >0.533927</td>\n",
              "      <td id=\"T_ab9e1_row2_col4\" class=\"data row2 col4\" >0.778039</td>\n",
              "      <td id=\"T_ab9e1_row2_col5\" class=\"data row2 col5\" >0.612953</td>\n",
              "      <td id=\"T_ab9e1_row2_col6\" class=\"data row2 col6\" >0.850592</td>\n",
              "      <td id=\"T_ab9e1_row2_col7\" class=\"data row2 col7\" >0.608927</td>\n",
              "    </tr>\n",
              "    <tr>\n",
              "      <th id=\"T_ab9e1_level0_row3\" class=\"row_heading level0 row3\" >min</th>\n",
              "      <td id=\"T_ab9e1_row3_col0\" class=\"data row3 col0\" >14.000000</td>\n",
              "      <td id=\"T_ab9e1_row3_col1\" class=\"data row3 col1\" >1.450000</td>\n",
              "      <td id=\"T_ab9e1_row3_col2\" class=\"data row3 col2\" >39.000000</td>\n",
              "      <td id=\"T_ab9e1_row3_col3\" class=\"data row3 col3\" >1.000000</td>\n",
              "      <td id=\"T_ab9e1_row3_col4\" class=\"data row3 col4\" >1.000000</td>\n",
              "      <td id=\"T_ab9e1_row3_col5\" class=\"data row3 col5\" >1.000000</td>\n",
              "      <td id=\"T_ab9e1_row3_col6\" class=\"data row3 col6\" >0.000000</td>\n",
              "      <td id=\"T_ab9e1_row3_col7\" class=\"data row3 col7\" >0.000000</td>\n",
              "    </tr>\n",
              "    <tr>\n",
              "      <th id=\"T_ab9e1_level0_row4\" class=\"row_heading level0 row4\" >25%</th>\n",
              "      <td id=\"T_ab9e1_row4_col0\" class=\"data row4 col0\" >19.947192</td>\n",
              "      <td id=\"T_ab9e1_row4_col1\" class=\"data row4 col1\" >1.630000</td>\n",
              "      <td id=\"T_ab9e1_row4_col2\" class=\"data row4 col2\" >65.473343</td>\n",
              "      <td id=\"T_ab9e1_row4_col3\" class=\"data row4 col3\" >2.000000</td>\n",
              "      <td id=\"T_ab9e1_row4_col4\" class=\"data row4 col4\" >2.658738</td>\n",
              "      <td id=\"T_ab9e1_row4_col5\" class=\"data row4 col5\" >1.584812</td>\n",
              "      <td id=\"T_ab9e1_row4_col6\" class=\"data row4 col6\" >0.124505</td>\n",
              "      <td id=\"T_ab9e1_row4_col7\" class=\"data row4 col7\" >0.000000</td>\n",
              "    </tr>\n",
              "    <tr>\n",
              "      <th id=\"T_ab9e1_level0_row5\" class=\"row_heading level0 row5\" >50%</th>\n",
              "      <td id=\"T_ab9e1_row5_col0\" class=\"data row5 col0\" >22.777890</td>\n",
              "      <td id=\"T_ab9e1_row5_col1\" class=\"data row5 col1\" >1.700499</td>\n",
              "      <td id=\"T_ab9e1_row5_col2\" class=\"data row5 col2\" >83.000000</td>\n",
              "      <td id=\"T_ab9e1_row5_col3\" class=\"data row5 col3\" >2.385502</td>\n",
              "      <td id=\"T_ab9e1_row5_col4\" class=\"data row5 col4\" >3.000000</td>\n",
              "      <td id=\"T_ab9e1_row5_col5\" class=\"data row5 col5\" >2.000000</td>\n",
              "      <td id=\"T_ab9e1_row5_col6\" class=\"data row5 col6\" >1.000000</td>\n",
              "      <td id=\"T_ab9e1_row5_col7\" class=\"data row5 col7\" >0.625350</td>\n",
              "    </tr>\n",
              "    <tr>\n",
              "      <th id=\"T_ab9e1_level0_row6\" class=\"row_heading level0 row6\" >75%</th>\n",
              "      <td id=\"T_ab9e1_row6_col0\" class=\"data row6 col0\" >26.000000</td>\n",
              "      <td id=\"T_ab9e1_row6_col1\" class=\"data row6 col1\" >1.768464</td>\n",
              "      <td id=\"T_ab9e1_row6_col2\" class=\"data row6 col2\" >107.430682</td>\n",
              "      <td id=\"T_ab9e1_row6_col3\" class=\"data row6 col3\" >3.000000</td>\n",
              "      <td id=\"T_ab9e1_row6_col4\" class=\"data row6 col4\" >3.000000</td>\n",
              "      <td id=\"T_ab9e1_row6_col5\" class=\"data row6 col5\" >2.477420</td>\n",
              "      <td id=\"T_ab9e1_row6_col6\" class=\"data row6 col6\" >1.666678</td>\n",
              "      <td id=\"T_ab9e1_row6_col7\" class=\"data row6 col7\" >1.000000</td>\n",
              "    </tr>\n",
              "    <tr>\n",
              "      <th id=\"T_ab9e1_level0_row7\" class=\"row_heading level0 row7\" >max</th>\n",
              "      <td id=\"T_ab9e1_row7_col0\" class=\"data row7 col0\" >61.000000</td>\n",
              "      <td id=\"T_ab9e1_row7_col1\" class=\"data row7 col1\" >1.980000</td>\n",
              "      <td id=\"T_ab9e1_row7_col2\" class=\"data row7 col2\" >173.000000</td>\n",
              "      <td id=\"T_ab9e1_row7_col3\" class=\"data row7 col3\" >3.000000</td>\n",
              "      <td id=\"T_ab9e1_row7_col4\" class=\"data row7 col4\" >4.000000</td>\n",
              "      <td id=\"T_ab9e1_row7_col5\" class=\"data row7 col5\" >3.000000</td>\n",
              "      <td id=\"T_ab9e1_row7_col6\" class=\"data row7 col6\" >3.000000</td>\n",
              "      <td id=\"T_ab9e1_row7_col7\" class=\"data row7 col7\" >2.000000</td>\n",
              "    </tr>\n",
              "  </tbody>\n",
              "</table>\n"
            ]
          },
          "metadata": {},
          "execution_count": 8
        }
      ]
    },
    {
      "cell_type": "code",
      "source": [
        "df[[\"Weight\"]].value_counts()"
      ],
      "metadata": {
        "colab": {
          "base_uri": "https://localhost:8080/",
          "height": 490
        },
        "id": "BowOLXMV1avZ",
        "outputId": "1bd772c0-6a5f-420e-eee8-3b6f12681a9b"
      },
      "execution_count": 13,
      "outputs": [
        {
          "output_type": "execute_result",
          "data": {
            "text/plain": [
              "Weight    \n",
              "80.000000     59\n",
              "70.000000     43\n",
              "50.000000     42\n",
              "75.000000     40\n",
              "60.000000     37\n",
              "              ..\n",
              "82.283185      1\n",
              "82.276350      1\n",
              "82.249831      1\n",
              "82.228794      1\n",
              "173.000000     1\n",
              "Name: count, Length: 1525, dtype: int64"
            ],
            "text/html": [
              "<div>\n",
              "<style scoped>\n",
              "    .dataframe tbody tr th:only-of-type {\n",
              "        vertical-align: middle;\n",
              "    }\n",
              "\n",
              "    .dataframe tbody tr th {\n",
              "        vertical-align: top;\n",
              "    }\n",
              "\n",
              "    .dataframe thead th {\n",
              "        text-align: right;\n",
              "    }\n",
              "</style>\n",
              "<table border=\"1\" class=\"dataframe\">\n",
              "  <thead>\n",
              "    <tr style=\"text-align: right;\">\n",
              "      <th></th>\n",
              "      <th>count</th>\n",
              "    </tr>\n",
              "    <tr>\n",
              "      <th>Weight</th>\n",
              "      <th></th>\n",
              "    </tr>\n",
              "  </thead>\n",
              "  <tbody>\n",
              "    <tr>\n",
              "      <th>80.000000</th>\n",
              "      <td>59</td>\n",
              "    </tr>\n",
              "    <tr>\n",
              "      <th>70.000000</th>\n",
              "      <td>43</td>\n",
              "    </tr>\n",
              "    <tr>\n",
              "      <th>50.000000</th>\n",
              "      <td>42</td>\n",
              "    </tr>\n",
              "    <tr>\n",
              "      <th>75.000000</th>\n",
              "      <td>40</td>\n",
              "    </tr>\n",
              "    <tr>\n",
              "      <th>60.000000</th>\n",
              "      <td>37</td>\n",
              "    </tr>\n",
              "    <tr>\n",
              "      <th>...</th>\n",
              "      <td>...</td>\n",
              "    </tr>\n",
              "    <tr>\n",
              "      <th>82.283185</th>\n",
              "      <td>1</td>\n",
              "    </tr>\n",
              "    <tr>\n",
              "      <th>82.276350</th>\n",
              "      <td>1</td>\n",
              "    </tr>\n",
              "    <tr>\n",
              "      <th>82.249831</th>\n",
              "      <td>1</td>\n",
              "    </tr>\n",
              "    <tr>\n",
              "      <th>82.228794</th>\n",
              "      <td>1</td>\n",
              "    </tr>\n",
              "    <tr>\n",
              "      <th>173.000000</th>\n",
              "      <td>1</td>\n",
              "    </tr>\n",
              "  </tbody>\n",
              "</table>\n",
              "<p>1525 rows × 1 columns</p>\n",
              "</div><br><label><b>dtype:</b> int64</label>"
            ]
          },
          "metadata": {},
          "execution_count": 13
        }
      ]
    },
    {
      "cell_type": "code",
      "source": [
        "df[[\"FAF\", \"NCP\"]].plot(\n",
        "    kind=\"hist\", alpha=0.6, title=\"Физическая активность и частота приема пищи\"\n",
        ");"
      ],
      "metadata": {
        "colab": {
          "base_uri": "https://localhost:8080/",
          "height": 452
        },
        "id": "tK1JzbTy2WHJ",
        "outputId": "c1ace60a-16c5-49d7-a0e0-d397ba2e6897"
      },
      "execution_count": 40,
      "outputs": [
        {
          "output_type": "display_data",
          "data": {
            "text/plain": [
              "<Figure size 640x480 with 1 Axes>"
            ],
            "image/png": "[encoded data removed]"
          },
          "metadata": {}
        }
      ]
    }
  ]
}